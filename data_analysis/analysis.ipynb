{
 "cells": [
  {
   "cell_type": "code",
   "execution_count": 19,
   "metadata": {},
   "outputs": [],
   "source": [
    "import numpy as np \n",
    "import pandas as pd \n",
    "import matplotlib.pyplot as plt \n",
    "\n",
    "\n",
    "'''\n",
    "The titanic data set contains three tables \n",
    "(1) train - the training data containing informations for all the passengers: Name, PassengerClass (Pclass), Sex, Age, SibSp, Parch, Ticket Number (Ticket), Fare, Cabin, Port of Embarkment (Embarked)\n",
    "(2) gender - example prediction output where all the instances are female passengers\n",
    "(3) test - same format as the training data, but used for \n",
    "'''\n",
    "\n",
    "test = pd.read_csv('data/test.csv')\n",
    "gender = pd.read_csv('data/gender_submission.csv')\n",
    "train = pd.read_csv('data/train.csv')\n"
   ]
  },
  {
   "cell_type": "code",
   "execution_count": 43,
   "metadata": {},
   "outputs": [
    {
     "output_type": "stream",
     "name": "stdout",
     "text": [
      "<class 'pandas.core.frame.DataFrame'>\nInt64Index: 714 entries, 0 to 890\nData columns (total 10 columns):\n #   Column       Non-Null Count  Dtype  \n---  ------       --------------  -----  \n 0   PassengerId  714 non-null    int64  \n 1   Survived     714 non-null    int64  \n 2   Pclass       714 non-null    int64  \n 3   Name         714 non-null    object \n 4   Sex          714 non-null    object \n 5   Age          714 non-null    float64\n 6   SibSp        714 non-null    int64  \n 7   Parch        714 non-null    int64  \n 8   Ticket       714 non-null    object \n 9   Fare         714 non-null    float64\ndtypes: float64(2), int64(5), object(3)\nmemory usage: 53.0+ KB\nNone\n"
     ]
    }
   ],
   "source": [
    "'''\n",
    "EDA + cleaning on the train data \n",
    "''' \n",
    "\n",
    "# train dataset contains the Name, Sex, Age, etc, basic information \n",
    "# print(train.info())\n",
    "\n",
    "'''\n",
    "check for NaN (null) data by columns\n",
    "'''\n",
    "# Cabin and Age have a lot of Null values \n",
    "\n",
    "'''\n",
    "because Cabin has poor data quality and we are not interested in Embarked, we can just drop them\n",
    "'''\n",
    "# table without Cabin and Embarked \n",
    "dropped = train.drop(['Cabin', 'Embarked'], axis=1)\n",
    "\n",
    "# another version of the table without invalid Age value \n",
    "filtered_age = dropped[dropped['Age'].notnull()]\n",
    "print(filtered_age.info())\n"
   ]
  },
  {
   "cell_type": "code",
   "execution_count": 48,
   "metadata": {},
   "outputs": [
    {
     "output_type": "execute_result",
     "data": {
      "text/plain": [
       "array([['male', 22.0, 3, 7.25],\n",
       "       ['female', 38.0, 1, 71.2833],\n",
       "       ['female', 26.0, 3, 7.925],\n",
       "       ...,\n",
       "       ['female', 19.0, 1, 30.0],\n",
       "       ['male', 26.0, 1, 30.0],\n",
       "       ['male', 32.0, 3, 7.75]], dtype=object)"
      ]
     },
     "metadata": {},
     "execution_count": 48
    }
   ],
   "source": [
    "'''\n",
    "build classifier\n",
    "'''\n",
    "# first define the features \n",
    "# we are interested in the following features: Sex, Age, passenger class, fare\n",
    "# EX: [[(Sex), (Age), (Pclass), (Fare)], ...]\n",
    "features = filtered_age[['Sex', 'Age', 'Pclass', 'Fare']].to_numpy()\n"
   ]
  },
  {
   "cell_type": "code",
   "execution_count": null,
   "metadata": {},
   "outputs": [],
   "source": []
  }
 ],
 "metadata": {
  "kernelspec": {
   "name": "python3",
   "display_name": "Python 3.7.4 32-bit",
   "metadata": {
    "interpreter": {
     "hash": "2768b7a5c0cc9db2962c3a79725ed82b05c23de3c63ba662bee1b49e8a583f43"
    }
   }
  },
  "language_info": {
   "codemirror_mode": {
    "name": "ipython",
    "version": 3
   },
   "file_extension": ".py",
   "mimetype": "text/x-python",
   "name": "python",
   "nbconvert_exporter": "python",
   "pygments_lexer": "ipython3",
   "version": "3.7.4-final"
  }
 },
 "nbformat": 4,
 "nbformat_minor": 2
}